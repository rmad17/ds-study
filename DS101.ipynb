{
 "cells": [
  {
   "cell_type": "code",
   "execution_count": 1,
   "metadata": {},
   "outputs": [
    {
     "name": "stdout",
     "output_type": "stream",
     "text": [
      "Collecting matplotlib\n",
      "\u001b[?25l  Downloading https://files.pythonhosted.org/packages/49/b8/89dbd27f2fb171ce753bb56220d4d4f6dbc5fe32b95d8edc4415782ef07f/matplotlib-2.2.2-cp36-cp36m-manylinux1_x86_64.whl (12.6MB)\n",
      "\u001b[K    100% |████████████████████████████████| 12.6MB 1.5MB/s ta 0:00:01   58% |██████████████████▉             | 7.4MB 1.6MB/s eta 0:00:04\n",
      "\u001b[?25hRequirement already satisfied: six>=1.10 in /home/rmad/.virtualenvs/ds/lib/python3.6/site-packages (from matplotlib) (1.11.0)\n",
      "Collecting pyparsing!=2.0.4,!=2.1.2,!=2.1.6,>=2.0.1 (from matplotlib)\n",
      "\u001b[?25l  Downloading https://files.pythonhosted.org/packages/6a/8a/718fd7d3458f9fab8e67186b00abdd345b639976bc7fb3ae722e1b026a50/pyparsing-2.2.0-py2.py3-none-any.whl (56kB)\n",
      "\u001b[K    100% |████████████████████████████████| 61kB 5.9MB/s ta 0:00:011\n",
      "\u001b[?25hCollecting kiwisolver>=1.0.1 (from matplotlib)\n",
      "\u001b[?25l  Downloading https://files.pythonhosted.org/packages/69/a7/88719d132b18300b4369fbffa741841cfd36d1e637e1990f27929945b538/kiwisolver-1.0.1-cp36-cp36m-manylinux1_x86_64.whl (949kB)\n",
      "\u001b[K    100% |████████████████████████████████| 952kB 3.7MB/s ta 0:00:01\n",
      "\u001b[?25hRequirement already satisfied: pytz in /home/rmad/.virtualenvs/ds/lib/python3.6/site-packages (from matplotlib) (2018.4)\n",
      "Requirement already satisfied: python-dateutil>=2.1 in /home/rmad/.virtualenvs/ds/lib/python3.6/site-packages (from matplotlib) (2.7.3)\n",
      "Requirement already satisfied: numpy>=1.7.1 in /home/rmad/.virtualenvs/ds/lib/python3.6/site-packages (from matplotlib) (1.14.3)\n",
      "Collecting cycler>=0.10 (from matplotlib)\n",
      "  Downloading https://files.pythonhosted.org/packages/f7/d2/e07d3ebb2bd7af696440ce7e754c59dd546ffe1bbe732c8ab68b9c834e61/cycler-0.10.0-py2.py3-none-any.whl\n",
      "Requirement already satisfied: setuptools in /home/rmad/.virtualenvs/ds/lib/python3.6/site-packages (from kiwisolver>=1.0.1->matplotlib) (39.1.0)\n",
      "Installing collected packages: pyparsing, kiwisolver, cycler, matplotlib\n",
      "Successfully installed cycler-0.10.0 kiwisolver-1.0.1 matplotlib-2.2.2 pyparsing-2.2.0\n"
     ]
    }
   ],
   "source": [
    "!pip install matplotlib"
   ]
  },
  {
   "cell_type": "code",
   "execution_count": 3,
   "metadata": {},
   "outputs": [
    {
     "name": "stdout",
     "output_type": "stream",
     "text": [
      "Requirement already satisfied: requests in /home/rmad/.virtualenvs/ds/lib/python3.6/site-packages (2.18.4)\n",
      "Collecting arrow\n",
      "\u001b[?25l  Downloading https://files.pythonhosted.org/packages/e0/86/4eb5228a43042e9a80fe8c84093a8a36f5db34a3767ebd5e1e7729864e7b/arrow-0.12.1.tar.gz (65kB)\n",
      "\u001b[K    100% |████████████████████████████████| 71kB 278kB/s ta 0:00:01\n",
      "\u001b[?25hRequirement already satisfied: chardet<3.1.0,>=3.0.2 in /home/rmad/.virtualenvs/ds/lib/python3.6/site-packages (from requests) (3.0.4)\n",
      "Requirement already satisfied: urllib3<1.23,>=1.21.1 in /home/rmad/.virtualenvs/ds/lib/python3.6/site-packages (from requests) (1.22)\n",
      "Requirement already satisfied: idna<2.7,>=2.5 in /home/rmad/.virtualenvs/ds/lib/python3.6/site-packages (from requests) (2.6)\n",
      "Requirement already satisfied: certifi>=2017.4.17 in /home/rmad/.virtualenvs/ds/lib/python3.6/site-packages (from requests) (2018.4.16)\n",
      "Requirement already satisfied: python-dateutil in /home/rmad/.virtualenvs/ds/lib/python3.6/site-packages (from arrow) (2.7.3)\n",
      "Requirement already satisfied: six>=1.5 in /home/rmad/.virtualenvs/ds/lib/python3.6/site-packages (from python-dateutil->arrow) (1.11.0)\n",
      "Building wheels for collected packages: arrow\n",
      "  Running setup.py bdist_wheel for arrow ... \u001b[?25ldone\n",
      "\u001b[?25h  Stored in directory: /home/rmad/.cache/pip/wheels/a3/dd/b2/d3b8d22e8136164c2e2c36ed42392531957cdf9c717065b28b\n",
      "Successfully built arrow\n",
      "Installing collected packages: arrow\n",
      "Successfully installed arrow-0.12.1\n"
     ]
    }
   ],
   "source": [
    "!pip install requests arrow"
   ]
  },
  {
   "cell_type": "code",
   "execution_count": 4,
   "metadata": {},
   "outputs": [],
   "source": [
    "import arrow, requests"
   ]
  }
 ],
 "metadata": {
  "kernelspec": {
   "display_name": "Python 3",
   "language": "python",
   "name": "python3"
  },
  "language_info": {
   "codemirror_mode": {
    "name": "ipython",
    "version": 3
   },
   "file_extension": ".py",
   "mimetype": "text/x-python",
   "name": "python",
   "nbconvert_exporter": "python",
   "pygments_lexer": "ipython3",
   "version": "3.6.5"
  }
 },
 "nbformat": 4,
 "nbformat_minor": 2
}
